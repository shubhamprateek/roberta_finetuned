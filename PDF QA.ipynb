{
 "cells": [
  {
   "cell_type": "code",
   "execution_count": 1,
   "id": "0a1dd0ef",
   "metadata": {},
   "outputs": [
    {
     "name": "stderr",
     "output_type": "stream",
     "text": [
      "2023-06-14 14:26:20.421036: I tensorflow/tsl/cuda/cudart_stub.cc:28] Could not find cuda drivers on your machine, GPU will not be used.\n",
      "2023-06-14 14:26:20.586703: I tensorflow/tsl/cuda/cudart_stub.cc:28] Could not find cuda drivers on your machine, GPU will not be used.\n",
      "2023-06-14 14:26:20.588076: I tensorflow/core/platform/cpu_feature_guard.cc:182] This TensorFlow binary is optimized to use available CPU instructions in performance-critical operations.\n",
      "To enable the following instructions: AVX2 FMA, in other operations, rebuild TensorFlow with the appropriate compiler flags.\n",
      "2023-06-14 14:26:21.531484: W tensorflow/compiler/tf2tensorrt/utils/py_utils.cc:38] TF-TRT Warning: Could not find TensorRT\n"
     ]
    }
   ],
   "source": [
    "from transformers import pipeline\n"
   ]
  },
  {
   "cell_type": "code",
   "execution_count": 6,
   "id": "07d5bed2",
   "metadata": {},
   "outputs": [],
   "source": [
    "\n",
    "question_answerer = pipeline(\"question-answering\", model=\"sprateek/finetuned-roberta-base-squad2-model-for-insurance-data\")\n"
   ]
  },
  {
   "cell_type": "code",
   "execution_count": 2,
   "id": "9eba0bb5",
   "metadata": {},
   "outputs": [],
   "source": [
    "context = \"Credit shall be allowed under Subsections A, B or C of this section only as respects cessions of those kinds or classes of business which the assuming insurer is licensed or otherwise permitted to write or assume in its state of domicile or, in the case of a U.S. branch of an alien assuming insurer, in the state through which it is entered and licensed to transact insurance or reinsurance. Credit shall be allowed under Subsections C or D of this section only if the applicable requirements of Subsection H have been satisfied.\"\n",
    "question = \"When credit shall be allowed under which subsections? \"\n"
   ]
  },
  {
   "cell_type": "code",
   "execution_count": 8,
   "id": "efddd032",
   "metadata": {},
   "outputs": [
    {
     "data": {
      "text/plain": [
       "{'score': 0.14052046835422516,\n",
       " 'start': 0,\n",
       " 'end': 51,\n",
       " 'answer': 'Credit shall be allowed under Subsections A, B or C'}"
      ]
     },
     "execution_count": 8,
     "metadata": {},
     "output_type": "execute_result"
    }
   ],
   "source": [
    "question_answerer(question=question, context=context)"
   ]
  },
  {
   "cell_type": "code",
   "execution_count": 3,
   "id": "a4632dfb",
   "metadata": {},
   "outputs": [],
   "source": [
    "\n",
    "model_path = \"/home/shubham/Downloads/Gen AI IJP/finetuned-roberta-base-squad2-model-for-insurance-data\"\n",
    "\n",
    "question_answerer_local = pipeline(\"question-answering\", model=model_path)\n"
   ]
  },
  {
   "cell_type": "code",
   "execution_count": 4,
   "id": "8f17c48d",
   "metadata": {},
   "outputs": [
    {
     "data": {
      "text/plain": [
       "{'score': 0.14052046835422516,\n",
       " 'start': 0,\n",
       " 'end': 51,\n",
       " 'answer': 'Credit shall be allowed under Subsections A, B or C'}"
      ]
     },
     "execution_count": 4,
     "metadata": {},
     "output_type": "execute_result"
    }
   ],
   "source": [
    "question_answerer_local(question=question, context=context)"
   ]
  },
  {
   "cell_type": "code",
   "execution_count": null,
   "id": "357591c0",
   "metadata": {},
   "outputs": [],
   "source": []
  }
 ],
 "metadata": {
  "kernelspec": {
   "display_name": "Python 3 (ipykernel)",
   "language": "python",
   "name": "python3"
  },
  "language_info": {
   "codemirror_mode": {
    "name": "ipython",
    "version": 3
   },
   "file_extension": ".py",
   "mimetype": "text/x-python",
   "name": "python",
   "nbconvert_exporter": "python",
   "pygments_lexer": "ipython3",
   "version": "3.10.6"
  }
 },
 "nbformat": 4,
 "nbformat_minor": 5
}
