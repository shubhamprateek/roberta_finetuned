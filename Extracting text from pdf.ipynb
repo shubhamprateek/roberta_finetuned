{
 "cells": [
  {
   "cell_type": "code",
   "execution_count": 6,
   "id": "837f81c3",
   "metadata": {},
   "outputs": [],
   "source": [
    "from PyPDF2 import PdfReader\n",
    "\n",
    "def extract_text_from_pdf(pdf_path):\n",
    "    text = \"\"\n",
    "    with open(pdf_path, \"rb\") as file:\n",
    "        reader = PdfReader(file)\n",
    "        for page in reader.pages:\n",
    "            text += page.extract_text()\n",
    "    return text\n",
    "\n",
    "def extract_chunk_of_text(text, num_words):\n",
    "    words = text.split()\n",
    "    chunk = \" \".join(words[:num_words])\n",
    "    return chunk\n",
    "\n",
    "def write_text_to_file(text, output_path):\n",
    "    with open(output_path, \"w\") as file:\n",
    "        file.write(text)\n",
    "        file.write(\"\\n\")\n",
    "\n",
    "# Provide the path to your PDF file\n",
    "pdf_path = \"pdf.pdf\"\n",
    "\n",
    "# Extract text from the PDF\n",
    "pdf_text = extract_text_from_pdf(pdf_path)\n",
    "\n",
    "# Set the number of words in each chunk\n",
    "chunk_size = 200\n",
    "\n",
    "# Iterate through the text and write chunks to the file\n",
    "output_file_path = \"output2.txt\"\n",
    "with open(output_file_path, \"w\") as file:\n",
    "    words = pdf_text.split()\n",
    "    for i in range(0, len(words), chunk_size):\n",
    "        chunk = \" \".join(words[i:i+chunk_size])\n",
    "        file.write(chunk)\n",
    "        file.write(\"\\n\\n\")\n"
   ]
  },
  {
   "cell_type": "code",
   "execution_count": 2,
   "id": "2222e26a",
   "metadata": {},
   "outputs": [
    {
     "name": "stdout",
     "output_type": "stream",
     "text": [
      "Defaulting to user installation because normal site-packages is not writeable\n",
      "Collecting PyPDF2\n",
      "  Downloading pypdf2-3.0.1-py3-none-any.whl (232 kB)\n",
      "\u001b[2K     \u001b[38;2;114;156;31m━━━━━━━━━━━━━━━━━━━━━━━━━━━━━━━━━━━━━━━\u001b[0m \u001b[32m232.6/232.6 KB\u001b[0m \u001b[31m1.6 MB/s\u001b[0m eta \u001b[36m0:00:00\u001b[0m[31m1.3 MB/s\u001b[0m eta \u001b[36m0:00:01\u001b[0m\n",
      "\u001b[?25hInstalling collected packages: PyPDF2\n",
      "Successfully installed PyPDF2-3.0.1\n"
     ]
    }
   ],
   "source": [
    "!pip install PyPDF2\n"
   ]
  },
  {
   "cell_type": "code",
   "execution_count": 7,
   "id": "b6544c0b",
   "metadata": {},
   "outputs": [],
   "source": [
    "def remove_extra_spaces(text):\n",
    "    lines = text.split(\"\\n\")\n",
    "    cleaned_text = \"\"\n",
    "    for line in lines:\n",
    "        words = line.split()\n",
    "        cleaned_words = []\n",
    "        for i in range(len(words)):\n",
    "            if i > 0 and len(words[i]) == 0 and len(words[i - 1]) == 0:\n",
    "                continue\n",
    "            cleaned_words.append(words[i])\n",
    "        cleaned_line = \" \".join(cleaned_words)\n",
    "        cleaned_text += cleaned_line + \"\\n\"\n",
    "    return cleaned_text\n",
    "\n",
    "# Provide the path to your text file\n",
    "text_file_path = \"output2.txt\"\n",
    "\n",
    "# Read the text file\n",
    "with open(text_file_path, \"r\") as file:\n",
    "    text = file.read()\n",
    "\n",
    "# Remove extra spaces within each paragraph\n",
    "cleaned_text = remove_extra_spaces(text)\n",
    "\n",
    "# Write the cleaned text to a new file\n",
    "output_file_path = \"cleaned_output.txt\"\n",
    "with open(output_file_path, \"w\") as file:\n",
    "    file.write(cleaned_text)\n"
   ]
  },
  {
   "cell_type": "code",
   "execution_count": null,
   "id": "96e00d26",
   "metadata": {},
   "outputs": [],
   "source": []
  }
 ],
 "metadata": {
  "kernelspec": {
   "display_name": "Python 3 (ipykernel)",
   "language": "python",
   "name": "python3"
  },
  "language_info": {
   "codemirror_mode": {
    "name": "ipython",
    "version": 3
   },
   "file_extension": ".py",
   "mimetype": "text/x-python",
   "name": "python",
   "nbconvert_exporter": "python",
   "pygments_lexer": "ipython3",
   "version": "3.10.6"
  }
 },
 "nbformat": 4,
 "nbformat_minor": 5
}
